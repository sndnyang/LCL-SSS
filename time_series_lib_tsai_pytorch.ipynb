{
 "cells": [
  {
   "cell_type": "markdown",
   "id": "1403d4b9",
   "metadata": {
    "pycharm": {
     "name": "#%% md\n"
    }
   },
   "source": [
    "# load tsai 库"
   ]
  },
  {
   "cell_type": "code",
   "execution_count": 1,
   "id": "41e61f84",
   "metadata": {
    "ExecuteTime": {
     "end_time": "2022-05-22T04:06:52.846327Z",
     "start_time": "2022-05-22T04:06:50.148547Z"
    },
    "pycharm": {
     "name": "#%%\n"
    }
   },
   "outputs": [],
   "source": [
    "from tsai.basics import *\n",
    "import sktime\n",
    "import sklearn\n",
    "\n",
    "from tsai.models.MINIROCKET_Pytorch import *\n",
    "from tsai.models.utils import *\n",
    "\n",
    "from sklearn.model_selection import train_test_split, ShuffleSplit\n",
    "from scipy.io import loadmat\n",
    "from sklearn import preprocessing\n",
    "import matplotlib.pyplot as plt\n",
    "\n",
    "from data_utils import get_data"
   ]
  },
  {
   "cell_type": "markdown",
   "id": "61007bb4",
   "metadata": {
    "pycharm": {
     "name": "#%% md\n"
    }
   },
   "source": [
    "# 数据导入与处理"
   ]
  },
  {
   "cell_type": "code",
   "execution_count": 2,
   "id": "b391a46e",
   "metadata": {
    "ExecuteTime": {
     "end_time": "2022-05-22T04:06:59.003597Z",
     "start_time": "2022-05-22T04:06:52.851289Z"
    },
    "pycharm": {
     "name": "#%%\n"
    }
   },
   "outputs": [],
   "source": [
    "train_data = loadmat('earthb.mat')\n",
    "all_data = train_data['images']\n",
    "all_target = train_data['labels']"
   ]
  },
  {
   "cell_type": "code",
   "execution_count": null,
   "outputs": [],
   "source": [
    "x.reshape(3, 2000)[0][:12]"
   ],
   "metadata": {
    "collapsed": false,
    "pycharm": {
     "name": "#%%\n"
    }
   }
  },
  {
   "cell_type": "code",
   "execution_count": null,
   "outputs": [],
   "source": [
    "x_train, x_valid, x_test, y_train, y_valid, y_test, splits, splits_test = get_data(all_data, all_target, dataset='eq')"
   ],
   "metadata": {
    "collapsed": false,
    "pycharm": {
     "name": "#%%\n"
    }
   }
  },
  {
   "cell_type": "code",
   "execution_count": null,
   "outputs": [],
   "source": [
    "x_train.shape, x_valid.shape, x_test.shape"
   ],
   "metadata": {
    "collapsed": false,
    "pycharm": {
     "name": "#%%\n"
    }
   }
  },
  {
   "cell_type": "markdown",
   "source": [
    "# 特征提取"
   ],
   "metadata": {
    "collapsed": false,
    "pycharm": {
     "name": "#%% md\n"
    }
   }
  },
  {
   "cell_type": "code",
   "execution_count": null,
   "outputs": [],
   "source": [
    "print(\"GPU/cuda or CPU?\")\n",
    "default_device()"
   ],
   "metadata": {
    "collapsed": false,
    "pycharm": {
     "name": "#%%\n"
    }
   }
  },
  {
   "cell_type": "code",
   "execution_count": null,
   "outputs": [],
   "source": [
    "# (特征数， 序列长度) -> (1, 1500)\n",
    "mrf = MiniRocketFeatures(x_train.shape[1], x_train.shape[2]).to(default_device())\n",
    "mrf.fit(x_train)"
   ],
   "metadata": {
    "collapsed": false,
    "pycharm": {
     "name": "#%%\n"
    }
   }
  },
  {
   "cell_type": "code",
   "execution_count": null,
   "outputs": [],
   "source": [
    "# 训练集与测试集， 索引见 splits\n",
    "X = np.concatenate([x_train, x_valid])\n",
    "y = np.concatenate([y_train, y_valid])"
   ],
   "metadata": {
    "collapsed": false,
    "pycharm": {
     "name": "#%%\n"
    }
   }
  },
  {
   "cell_type": "code",
   "execution_count": null,
   "outputs": [],
   "source": [
    "X_feat = get_minirocket_features(X, mrf, chunksize=512, to_np=True)\n",
    "X_feat.shape, type(X_feat)"
   ],
   "metadata": {
    "collapsed": false,
    "pycharm": {
     "name": "#%%\n"
    }
   }
  },
  {
   "cell_type": "markdown",
   "source": [
    "# 在特征之上进行训练"
   ],
   "metadata": {
    "collapsed": false,
    "pycharm": {
     "name": "#%% md\n"
    }
   }
  },
  {
   "cell_type": "code",
   "execution_count": null,
   "outputs": [],
   "source": [
    "# As above, use tsai to bring X_feat into fastai, and train.\n",
    "tfms = [None, TSClassification()]\n",
    "batch_tfms = TSStandardize(by_sample=True)\n",
    "dls = get_ts_dls(X_feat, y, splits=splits, tfms=tfms, batch_tfms=batch_tfms)\n",
    "model = build_ts_model(MiniRocketHead, dls=dls)\n",
    "learn = Learner(dls, model, metrics=accuracy, cbs=ShowGraph())\n",
    "timer.start()\n",
    "learn.fit_one_cycle(50, 3e-4)\n",
    "timer.stop()"
   ],
   "metadata": {
    "collapsed": false,
    "pycharm": {
     "name": "#%%\n"
    }
   }
  },
  {
   "cell_type": "markdown",
   "source": [
    "# 验证"
   ],
   "metadata": {
    "collapsed": false,
    "pycharm": {
     "name": "#%% md\n"
    }
   }
  },
  {
   "cell_type": "code",
   "execution_count": null,
   "outputs": [],
   "source": [
    "new_feat = get_minirocket_features(X[splits[1]], mrf, chunksize=1024, to_np=True)\n",
    "print(new_feat.shape, type(new_feat))\n",
    "probas, _, preds = learn.get_X_preds(new_feat)\n",
    "print(preds)\n",
    "print(\"valid accuracy\", sklearn.metrics.accuracy_score(y[splits[1]], preds.astype(int)))"
   ],
   "metadata": {
    "collapsed": false,
    "pycharm": {
     "name": "#%%\n"
    }
   }
  },
  {
   "cell_type": "markdown",
   "source": [
    "# 保存模型\n",
    "\n",
    "特征提取与模型learn 都要保存\n",
    "\n",
    "learn.export 必须放在最后， 整个导出后， learn 不能用了， 必须重新读取"
   ],
   "metadata": {
    "collapsed": false,
    "pycharm": {
     "name": "#%% md\n"
    }
   }
  },
  {
   "cell_type": "code",
   "execution_count": null,
   "outputs": [],
   "source": [
    "PATH = Path(\"./models/MR_feature.pt\")\n",
    "PATH.parent.mkdir(parents=True, exist_ok=True)\n",
    "torch.save(mrf.state_dict(), PATH)\n",
    "PATH = Path('./models/MR_learner.pkl')\n",
    "learn.export(PATH)\n",
    "print('model save path', PATH)"
   ],
   "metadata": {
    "collapsed": false,
    "pycharm": {
     "name": "#%%\n"
    }
   }
  },
  {
   "cell_type": "code",
   "execution_count": null,
   "outputs": [],
   "source": [],
   "metadata": {
    "collapsed": false,
    "pycharm": {
     "name": "#%%\n"
    }
   }
  },
  {
   "cell_type": "markdown",
   "source": [
    "# 读取模型"
   ],
   "metadata": {
    "collapsed": false,
    "pycharm": {
     "name": "#%% md\n"
    }
   }
  },
  {
   "cell_type": "code",
   "execution_count": null,
   "outputs": [],
   "source": [
    "mrf = MiniRocketFeatures(X.shape[1], X.shape[2]).to(default_device())\n",
    "PATH = Path(\"./models/MR_feature.pt\")\n",
    "mrf.load_state_dict(torch.load(PATH))\n",
    "PATH = Path('./models/MR_learner.pkl')\n",
    "learn = load_learner(PATH, cpu=False)"
   ],
   "metadata": {
    "collapsed": false,
    "pycharm": {
     "name": "#%%\n"
    }
   }
  },
  {
   "cell_type": "code",
   "execution_count": null,
   "outputs": [],
   "source": [
    "new_feat = get_minirocket_features(x_test, mrf, chunksize=1024, to_np=True)\n",
    "probas, _, preds = learn.get_X_preds(new_feat)\n",
    "print('Test accuracy', sklearn.metrics.accuracy_score(y_test, preds.astype(int)))"
   ],
   "metadata": {
    "collapsed": false,
    "pycharm": {
     "name": "#%%\n"
    }
   }
  },
  {
   "cell_type": "code",
   "execution_count": null,
   "outputs": [],
   "source": [
    "preds = preds.astype(int)"
   ],
   "metadata": {
    "collapsed": false,
    "pycharm": {
     "name": "#%%\n"
    }
   }
  },
  {
   "cell_type": "code",
   "execution_count": null,
   "outputs": [],
   "source": [
    "from sklearn.metrics import confusion_matrix,  ConfusionMatrixDisplay"
   ],
   "metadata": {
    "collapsed": false,
    "pycharm": {
     "name": "#%%\n"
    }
   }
  },
  {
   "cell_type": "code",
   "execution_count": null,
   "outputs": [],
   "source": [
    "cm = confusion_matrix(y_test, preds)"
   ],
   "metadata": {
    "collapsed": false,
    "pycharm": {
     "name": "#%%\n"
    }
   }
  },
  {
   "cell_type": "code",
   "execution_count": null,
   "outputs": [],
   "source": [
    "\n",
    "disp = ConfusionMatrixDisplay(confusion_matrix=cm,\n",
    "                               display_labels=[0, 1, 2])\n",
    "disp.plot()"
   ],
   "metadata": {
    "collapsed": false,
    "pycharm": {
     "name": "#%%\n"
    }
   }
  },
  {
   "cell_type": "code",
   "execution_count": null,
   "id": "a3047f20",
   "metadata": {
    "pycharm": {
     "name": "#%%\n"
    }
   },
   "outputs": [],
   "source": [
    "maps = {0: 'blast', 1:'noise', 2: 'earthq'}"
   ]
  },
  {
   "cell_type": "code",
   "execution_count": null,
   "id": "4158704d",
   "metadata": {
    "pycharm": {
     "name": "#%%\n"
    }
   },
   "outputs": [],
   "source": [
    "k=44\n",
    "plt.plot(np.arange(1500), x_test[index[k]][0])\n",
    "plt.title('%d, pred=%s, y=%s' % (k, maps[preds[index[k]]], maps[y_test[index[k]]]))"
   ]
  },
  {
   "cell_type": "code",
   "execution_count": null,
   "id": "a369cd86",
   "metadata": {
    "pycharm": {
     "name": "#%%\n"
    }
   },
   "outputs": [],
   "source": [
    "k=57\n",
    "plt.plot(np.arange(1500), x_test[index[k]][0])\n",
    "plt.title('%d, pred=%s, y=%s' % (k, maps[preds[index[k]]], maps[y_test[index[k]]]))"
   ]
  },
  {
   "cell_type": "code",
   "execution_count": null,
   "id": "8e80de01",
   "metadata": {
    "pycharm": {
     "name": "#%%\n"
    }
   },
   "outputs": [],
   "source": [
    "k=150 \n",
    "plt.plot(np.arange(1500), x_test[index[k]][0])\n",
    "plt.title('%d, pred=%s, y=%s' % (k, maps[preds[index[k]]], maps[y_test[index[k]]]))"
   ]
  },
  {
   "cell_type": "code",
   "execution_count": null,
   "id": "13ad75c6",
   "metadata": {
    "pycharm": {
     "name": "#%%\n"
    }
   },
   "outputs": [],
   "source": [
    "index[k]"
   ]
  },
  {
   "cell_type": "code",
   "execution_count": null,
   "id": "f87e506f",
   "metadata": {
    "pycharm": {
     "name": "#%%\n"
    }
   },
   "outputs": [],
   "source": [
    "splits_test[1][1157]"
   ]
  },
  {
   "cell_type": "code",
   "execution_count": null,
   "id": "7aea5c7e",
   "metadata": {
    "pycharm": {
     "name": "#%%\n"
    }
   },
   "outputs": [],
   "source": [
    "plt.plot(np.arange(2000), all_data[20082][:2000])\n",
    "plt.title('%d, pred=%s, y=%s' % (k, maps[preds[index[k]]], maps[y_test[index[k]]]))"
   ]
  },
  {
   "cell_type": "code",
   "execution_count": null,
   "id": "dd4381d8",
   "metadata": {
    "pycharm": {
     "name": "#%%\n"
    }
   },
   "outputs": [],
   "source": [
    "plt.plot(np.arange(1500), all_data[5694][300:1800])\n",
    "plt.title('%d, pred=%s, y=%s' % (5694, maps[preds[index[k]]], maps[y_test[index[k]]]))"
   ]
  },
  {
   "cell_type": "code",
   "execution_count": null,
   "id": "1504ee9e",
   "metadata": {
    "pycharm": {
     "name": "#%%\n"
    }
   },
   "outputs": [],
   "source": [
    "k=44\n",
    "plt.plot(np.arange(1500), x_test[k][0])\n",
    "plt.title('%d, pred=%s, y=%s' % (k, maps[preds[index[k]]], maps[y_test[index[k]]]))"
   ]
  },
  {
   "cell_type": "code",
   "execution_count": null,
   "id": "1071acef",
   "metadata": {
    "pycharm": {
     "name": "#%%\n"
    }
   },
   "outputs": [],
   "source": [
    "k=171\n",
    "plt.plot(np.arange(1500), x_test[k][0])\n",
    "plt.title('%d, pred=%s, y=%s' % (k, maps[preds[index[k]]], maps[y_test[index[k]]]))"
   ]
  },
  {
   "cell_type": "code",
   "execution_count": 14,
   "id": "b96b71fe",
   "metadata": {
    "ExecuteTime": {
     "end_time": "2022-05-21T01:24:03.167073Z",
     "start_time": "2022-05-21T01:23:57.825062Z"
    },
    "pycharm": {
     "name": "#%%\n"
    }
   },
   "outputs": [
    {
     "data": {
      "text/html": [
       "\n",
       "<style>\n",
       "    /* Turns off some styling */\n",
       "    progress {\n",
       "        /* gets rid of default border in Firefox and Opera. */\n",
       "        border: none;\n",
       "        /* Needs to be in here for Safari polyfill so background images work as expected. */\n",
       "        background-size: auto;\n",
       "    }\n",
       "    .progress-bar-interrupted, .progress-bar-interrupted::-webkit-progress-bar {\n",
       "        background: #F44336;\n",
       "    }\n",
       "</style>\n"
      ],
      "text/plain": [
       "<IPython.core.display.HTML object>"
      ]
     },
     "metadata": {},
     "output_type": "display_data"
    },
    {
     "data": {
      "text/html": [],
      "text/plain": [
       "<IPython.core.display.HTML object>"
      ]
     },
     "metadata": {},
     "output_type": "display_data"
    },
    {
     "name": "stdout",
     "output_type": "stream",
     "text": [
      "Test accuracy 0.9546279491833031\n"
     ]
    }
   ],
   "source": [
    "new_feat = get_minirocket_features(x_test, mrf, chunksize=1024, to_np=True)\n",
    "probas, _, preds = learn.get_X_preds(new_feat)\n",
    "print('Test accuracy', sklearn.metrics.accuracy_score(y_test, preds.astype(int)))"
   ]
  },
  {
   "cell_type": "code",
   "execution_count": 15,
   "id": "b0f08964",
   "metadata": {
    "ExecuteTime": {
     "end_time": "2022-05-21T01:24:12.494106Z",
     "start_time": "2022-05-21T01:24:12.482851Z"
    },
    "pycharm": {
     "name": "#%%\n"
    }
   },
   "outputs": [],
   "source": [
    "preds = preds.astype(int)"
   ]
  },
  {
   "cell_type": "code",
   "execution_count": 16,
   "id": "9a735254",
   "metadata": {
    "ExecuteTime": {
     "end_time": "2022-05-21T01:24:13.805906Z",
     "start_time": "2022-05-21T01:24:13.801169Z"
    },
    "pycharm": {
     "name": "#%%\n"
    }
   },
   "outputs": [],
   "source": [
    "ttt = y_test - preds"
   ]
  },
  {
   "cell_type": "code",
   "execution_count": 17,
   "id": "832337e0",
   "metadata": {
    "ExecuteTime": {
     "end_time": "2022-05-21T01:24:16.994012Z",
     "start_time": "2022-05-21T01:24:16.988954Z"
    },
    "pycharm": {
     "name": "#%%\n"
    }
   },
   "outputs": [],
   "source": [
    "index = np.where(ttt != 0)[0]"
   ]
  },
  {
   "cell_type": "code",
   "execution_count": 18,
   "id": "bfa3b48c",
   "metadata": {
    "ExecuteTime": {
     "end_time": "2022-05-21T01:24:18.315158Z",
     "start_time": "2022-05-21T01:24:18.309886Z"
    },
    "pycharm": {
     "name": "#%%\n"
    }
   },
   "outputs": [
    {
     "data": {
      "text/plain": [
       "(300,)"
      ]
     },
     "execution_count": 18,
     "metadata": {},
     "output_type": "execute_result"
    }
   ],
   "source": [
    "index.shape"
   ]
  },
  {
   "cell_type": "code",
   "execution_count": 34,
   "id": "0181b2a6",
   "metadata": {
    "ExecuteTime": {
     "end_time": "2022-05-21T01:33:08.051973Z",
     "start_time": "2022-05-21T01:33:08.047201Z"
    },
    "pycharm": {
     "name": "#%%\n"
    }
   },
   "outputs": [],
   "source": [
    "from sklearn.metrics import confusion_matrix,  ConfusionMatrixDisplay"
   ]
  },
  {
   "cell_type": "code",
   "execution_count": 32,
   "id": "f0d7d35e",
   "metadata": {
    "ExecuteTime": {
     "end_time": "2022-05-21T01:32:51.025784Z",
     "start_time": "2022-05-21T01:32:51.017089Z"
    },
    "pycharm": {
     "name": "#%%\n"
    }
   },
   "outputs": [],
   "source": [
    "cm = confusion_matrix(y_test, preds)"
   ]
  },
  {
   "cell_type": "code",
   "execution_count": 35,
   "id": "fc3cda44",
   "metadata": {
    "ExecuteTime": {
     "end_time": "2022-05-21T01:33:10.593074Z",
     "start_time": "2022-05-21T01:33:10.588096Z"
    },
    "pycharm": {
     "name": "#%%\n"
    }
   },
   "outputs": [],
   "source": [
    "\n",
    "disp = ConfusionMatrixDisplay(confusion_matrix=cm,\n",
    "                               display_labels=[0, 1, 2])"
   ]
  },
  {
   "cell_type": "code",
   "execution_count": 36,
   "id": "00acc245",
   "metadata": {
    "ExecuteTime": {
     "end_time": "2022-05-21T01:33:19.218962Z",
     "start_time": "2022-05-21T01:33:19.005863Z"
    },
    "pycharm": {
     "name": "#%%\n"
    }
   },
   "outputs": [
    {
     "data": {
      "text/plain": [
       "<sklearn.metrics._plot.confusion_matrix.ConfusionMatrixDisplay at 0x7f6df4237ad0>"
      ]
     },
     "execution_count": 36,
     "metadata": {},
     "output_type": "execute_result"
    },
    {
     "data": {
      "image/png": "[encoded data removed]",
      "text/plain": [
       "<Figure size 432x288 with 2 Axes>"
      ]
     },
     "metadata": {
      "needs_background": "light"
     },
     "output_type": "display_data"
    }
   ],
   "source": [
    "disp.plot()"
   ]
  },
  {
   "cell_type": "code",
   "execution_count": 19,
   "id": "77ae2b86",
   "metadata": {
    "ExecuteTime": {
     "end_time": "2022-05-21T01:24:20.848909Z",
     "start_time": "2022-05-21T01:24:20.841571Z"
    },
    "pycharm": {
     "name": "#%%\n"
    },
    "scrolled": true
   },
   "outputs": [
    {
     "data": {
      "text/plain": [
       "array([  20,   43,   44,   50,   73,   92,  119,  167,  198,  205,  217,\n",
       "        233,  240,  247,  286,  312,  317,  318,  320,  324,  325,  356,\n",
       "        393,  405,  443,  452,  472,  481,  506,  522,  548,  570,  662,\n",
       "        681,  683,  686,  689,  717,  738,  751,  788,  808,  814,  823,\n",
       "        825,  842,  868,  911,  983, 1005, 1021, 1023, 1026, 1048, 1050,\n",
       "       1072, 1145, 1157, 1180, 1209, 1229, 1249, 1250, 1292, 1301, 1319,\n",
       "       1324, 1353, 1399, 1430, 1437, 1443, 1477, 1489, 1506, 1534, 1546,\n",
       "       1550, 1615, 1620, 1633, 1648, 1658, 1706, 1736, 1803, 1823, 1824,\n",
       "       1954, 1960, 1967, 2018, 2021, 2046, 2139, 2156, 2161, 2170, 2178,\n",
       "       2209, 2211, 2224, 2227, 2229, 2251, 2294, 2316, 2348, 2364, 2365,\n",
       "       2367, 2368, 2379, 2455, 2466, 2478, 2487, 2490, 2492, 2499, 2573,\n",
       "       2621, 2636, 2685, 2708, 2714, 2738, 2739, 2778, 2793, 2811, 2812,\n",
       "       2839, 2849, 2932, 2934, 2974, 3007, 3011, 3030, 3096, 3099, 3104,\n",
       "       3124, 3148, 3153, 3162, 3187, 3205, 3239, 3279, 3311, 3383, 3394,\n",
       "       3434, 3446, 3456, 3461, 3462, 3489, 3544, 3561, 3570, 3589, 3601,\n",
       "       3655, 3702, 3767, 3790, 3807, 3826, 3841, 3865, 3892, 3894, 3910,\n",
       "       3929, 3940, 3948, 3957, 3966, 3979, 3985, 4021, 4064, 4080, 4083,\n",
       "       4161, 4167, 4179, 4180, 4191, 4195, 4210, 4247, 4253, 4257, 4281,\n",
       "       4289, 4332, 4360, 4370, 4376, 4382, 4445, 4469, 4480, 4500, 4563,\n",
       "       4593, 4646, 4686, 4694, 4707, 4731, 4737, 4739, 4741, 4746, 4836,\n",
       "       4843, 4845, 4873, 4916, 4956, 4968, 5000, 5017, 5019, 5062, 5078,\n",
       "       5112, 5114, 5134, 5145, 5228, 5235, 5268, 5282, 5292, 5309, 5331,\n",
       "       5334, 5380, 5382, 5404, 5456, 5481, 5497, 5534, 5537, 5573, 5581,\n",
       "       5595, 5609, 5627, 5634, 5677, 5714, 5718, 5763, 5780, 5786, 5792,\n",
       "       5796, 5797, 5831, 5848, 5880, 5885, 5994, 5996, 6055, 6089, 6116,\n",
       "       6155, 6167, 6202, 6204, 6207, 6215, 6230, 6274, 6285, 6286, 6299,\n",
       "       6310, 6319, 6333, 6344, 6346, 6369, 6401, 6457, 6470, 6502, 6515,\n",
       "       6555, 6560, 6586])"
      ]
     },
     "execution_count": 19,
     "metadata": {},
     "output_type": "execute_result"
    }
   ],
   "source": [
    "index"
   ]
  },
  {
   "cell_type": "code",
   "execution_count": 20,
   "id": "2a0b67d3",
   "metadata": {
    "ExecuteTime": {
     "end_time": "2022-05-21T01:24:26.532952Z",
     "start_time": "2022-05-21T01:24:26.526369Z"
    },
    "pycharm": {
     "name": "#%%\n"
    }
   },
   "outputs": [
    {
     "name": "stdout",
     "output_type": "stream",
     "text": [
      "20 0 1\n",
      "43 0 1\n",
      "44 1 0\n",
      "50 0 1\n",
      "73 0 1\n",
      "92 0 2\n",
      "119 0 1\n",
      "167 1 0\n",
      "198 0 1\n",
      "205 0 1\n"
     ]
    }
   ],
   "source": [
    "for i in range(10):\n",
    "    print(index[i], preds[index[i]], y_test[index[i]])"
   ]
  },
  {
   "cell_type": "code",
   "execution_count": 29,
   "id": "6f7702dd",
   "metadata": {
    "ExecuteTime": {
     "end_time": "2022-05-21T01:29:54.182187Z",
     "start_time": "2022-05-21T01:29:54.173903Z"
    },
    "pycharm": {
     "name": "#%%\n"
    }
   },
   "outputs": [
    {
     "name": "stdout",
     "output_type": "stream",
     "text": [
      "57 1157 2 1\n",
      "150 3279 1 2\n"
     ]
    }
   ],
   "source": [
    "for i in range(len(index)):\n",
    "    if preds[index[i]] * y_test[index[i]] == 2:\n",
    "        print(i, index[i], preds[index[i]], y_test[index[i]])"
   ]
  },
  {
   "cell_type": "code",
   "execution_count": 23,
   "id": "b84efa73",
   "metadata": {
    "ExecuteTime": {
     "end_time": "2022-05-21T01:24:51.413945Z",
     "start_time": "2022-05-21T01:24:51.409168Z"
    },
    "pycharm": {
     "name": "#%%\n"
    }
   },
   "outputs": [],
   "source": [
    "maps = {0: 'blast', 1:'noise', 2: 'earthq'}"
   ]
  },
  {
   "cell_type": "code",
   "execution_count": 53,
   "id": "7afff410",
   "metadata": {
    "ExecuteTime": {
     "end_time": "2022-05-21T02:04:55.531520Z",
     "start_time": "2022-05-21T02:04:55.364854Z"
    },
    "pycharm": {
     "name": "#%%\n"
    }
   },
   "outputs": [
    {
     "data": {
      "text/plain": [
       "Text(0.5, 1.0, '44, pred=blast, y=noise')"
      ]
     },
     "execution_count": 53,
     "metadata": {},
     "output_type": "execute_result"
    },
    {
     "data": {
      "image/png": "[encoded data removed]",
      "text/plain": [
       "<Figure size 432x288 with 1 Axes>"
      ]
     },
     "metadata": {
      "needs_background": "light"
     },
     "output_type": "display_data"
    }
   ],
   "source": [
    "k=44\n",
    "plt.plot(np.arange(1500), x_test[index[k]][0])\n",
    "plt.title('%d, pred=%s, y=%s' % (k, maps[preds[index[k]]], maps[y_test[index[k]]]))"
   ]
  },
  {
   "cell_type": "code",
   "execution_count": 46,
   "id": "f4e138ca",
   "metadata": {
    "ExecuteTime": {
     "end_time": "2022-05-21T02:00:29.084384Z",
     "start_time": "2022-05-21T02:00:28.877764Z"
    },
    "pycharm": {
     "name": "#%%\n"
    }
   },
   "outputs": [
    {
     "data": {
      "text/plain": [
       "Text(0.5, 1.0, '57, pred=earthq, y=noise')"
      ]
     },
     "execution_count": 46,
     "metadata": {},
     "output_type": "execute_result"
    },
    {
     "data": {
      "image/png": "[encoded data removed]",
      "text/plain": [
       "<Figure size 432x288 with 1 Axes>"
      ]
     },
     "metadata": {
      "needs_background": "light"
     },
     "output_type": "display_data"
    }
   ],
   "source": [
    "k=57\n",
    "plt.plot(np.arange(1500), x_test[index[k]][0])\n",
    "plt.title('%d, pred=%s, y=%s' % (k, maps[preds[index[k]]], maps[y_test[index[k]]]))"
   ]
  },
  {
   "cell_type": "code",
   "execution_count": 45,
   "id": "16bc76e2",
   "metadata": {
    "ExecuteTime": {
     "end_time": "2022-05-21T01:59:42.661601Z",
     "start_time": "2022-05-21T01:59:42.502174Z"
    },
    "pycharm": {
     "name": "#%%\n"
    }
   },
   "outputs": [
    {
     "data": {
      "text/plain": [
       "Text(0.5, 1.0, '150, pred=noise, y=earthq')"
      ]
     },
     "execution_count": 45,
     "metadata": {},
     "output_type": "execute_result"
    },
    {
     "data": {
      "image/png": "[encoded data removed]",
      "text/plain": [
       "<Figure size 432x288 with 1 Axes>"
      ]
     },
     "metadata": {
      "needs_background": "light"
     },
     "output_type": "display_data"
    }
   ],
   "source": [
    "k=150 \n",
    "plt.plot(np.arange(1500), x_test[index[k]][0])\n",
    "plt.title('%d, pred=%s, y=%s' % (k, maps[preds[index[k]]], maps[y_test[index[k]]]))"
   ]
  },
  {
   "cell_type": "code",
   "execution_count": 47,
   "id": "39bf7f29",
   "metadata": {
    "ExecuteTime": {
     "end_time": "2022-05-21T02:00:43.267047Z",
     "start_time": "2022-05-21T02:00:43.262231Z"
    },
    "pycharm": {
     "name": "#%%\n"
    }
   },
   "outputs": [
    {
     "data": {
      "text/plain": [
       "1157"
      ]
     },
     "execution_count": 47,
     "metadata": {},
     "output_type": "execute_result"
    }
   ],
   "source": [
    "index[k]"
   ]
  },
  {
   "cell_type": "code",
   "execution_count": 48,
   "id": "94671b2f",
   "metadata": {
    "ExecuteTime": {
     "end_time": "2022-05-21T02:00:46.346357Z",
     "start_time": "2022-05-21T02:00:46.338840Z"
    },
    "pycharm": {
     "name": "#%%\n"
    }
   },
   "outputs": [
    {
     "data": {
      "text/plain": [
       "5694"
      ]
     },
     "execution_count": 48,
     "metadata": {},
     "output_type": "execute_result"
    }
   ],
   "source": [
    "splits_test[1][1157]"
   ]
  },
  {
   "cell_type": "code",
   "execution_count": 52,
   "id": "7db8b5cb",
   "metadata": {
    "ExecuteTime": {
     "end_time": "2022-05-21T02:02:01.168300Z",
     "start_time": "2022-05-21T02:02:00.933548Z"
    },
    "pycharm": {
     "name": "#%%\n"
    }
   },
   "outputs": [
    {
     "data": {
      "text/plain": [
       "Text(0.5, 1.0, '57, pred=earthq, y=noise')"
      ]
     },
     "execution_count": 52,
     "metadata": {},
     "output_type": "execute_result"
    },
    {
     "data": {
      "image/png": "[encoded data removed]",
      "text/plain": [
       "<Figure size 432x288 with 1 Axes>"
      ]
     },
     "metadata": {
      "needs_background": "light"
     },
     "output_type": "display_data"
    }
   ],
   "source": [
    "plt.plot(np.arange(2000), all_data[20082][:2000])\n",
    "plt.title('%d, pred=%s, y=%s' % (k, maps[preds[index[k]]], maps[y_test[index[k]]]))"
   ]
  },
  {
   "cell_type": "code",
   "execution_count": 50,
   "id": "d82efebf",
   "metadata": {
    "ExecuteTime": {
     "end_time": "2022-05-21T02:01:04.879816Z",
     "start_time": "2022-05-21T02:01:04.716208Z"
    },
    "pycharm": {
     "name": "#%%\n"
    }
   },
   "outputs": [
    {
     "data": {
      "text/plain": [
       "Text(0.5, 1.0, '5694, pred=earthq, y=noise')"
      ]
     },
     "execution_count": 50,
     "metadata": {},
     "output_type": "execute_result"
    },
    {
     "data": {
      "image/png": "[encoded data removed]",
      "text/plain": [
       "<Figure size 432x288 with 1 Axes>"
      ]
     },
     "metadata": {
      "needs_background": "light"
     },
     "output_type": "display_data"
    }
   ],
   "source": [
    "plt.plot(np.arange(1500), all_data[5694][300:1800])\n",
    "plt.title('%d, pred=%s, y=%s' % (5694, maps[preds[index[k]]], maps[y_test[index[k]]]))"
   ]
  },
  {
   "cell_type": "code",
   "execution_count": 43,
   "id": "f10250c7",
   "metadata": {
    "ExecuteTime": {
     "end_time": "2022-05-21T01:08:15.911205Z",
     "start_time": "2022-05-21T01:08:15.755584Z"
    },
    "pycharm": {
     "name": "#%%\n"
    }
   },
   "outputs": [
    {
     "data": {
      "text/plain": [
       "Text(0.5, 1.0, '44, pred=noise, y=blast')"
      ]
     },
     "execution_count": 43,
     "metadata": {},
     "output_type": "execute_result"
    },
    {
     "data": {
      "image/png": "[encoded data removed]",
      "text/plain": [
       "<Figure size 432x288 with 1 Axes>"
      ]
     },
     "metadata": {
      "needs_background": "light"
     },
     "output_type": "display_data"
    }
   ],
   "source": [
    "k=44\n",
    "plt.plot(np.arange(1500), x_test[k][0])\n",
    "plt.title('%d, pred=%s, y=%s' % (k, maps[preds[index[k]]], maps[y_test[index[k]]]))"
   ]
  },
  {
   "cell_type": "code",
   "execution_count": 44,
   "id": "8f0164cc",
   "metadata": {
    "ExecuteTime": {
     "end_time": "2022-05-21T01:08:22.437607Z",
     "start_time": "2022-05-21T01:08:22.278575Z"
    },
    "pycharm": {
     "name": "#%%\n"
    }
   },
   "outputs": [
    {
     "data": {
      "text/plain": [
       "Text(0.5, 1.0, '171, pred=blast, y=noise')"
      ]
     },
     "execution_count": 44,
     "metadata": {},
     "output_type": "execute_result"
    },
    {
     "data": {
      "image/png": "[encoded data removed]",
      "text/plain": [
       "<Figure size 432x288 with 1 Axes>"
      ]
     },
     "metadata": {
      "needs_background": "light"
     },
     "output_type": "display_data"
    }
   ],
   "source": [
    "k=171\n",
    "plt.plot(np.arange(1500), x_test[k][0])\n",
    "plt.title('%d, pred=%s, y=%s' % (k, maps[preds[index[k]]], maps[y_test[index[k]]]))"
   ]
  }
 ],
 "metadata": {
  "kernelspec": {
   "display_name": "Python 3 (ipykernel)",
   "language": "python",
   "name": "python3"
  },
  "language_info": {
   "codemirror_mode": {
    "name": "ipython",
    "version": 3
   },
   "file_extension": ".py",
   "mimetype": "text/x-python",
   "name": "python",
   "nbconvert_exporter": "python",
   "pygments_lexer": "ipython3",
   "version": "3.7.13"
  },
  "toc": {
   "base_numbering": 1,
   "nav_menu": {},
   "number_sections": true,
   "sideBar": true,
   "skip_h1_title": false,
   "title_cell": "Table of Contents",
   "title_sidebar": "Contents",
   "toc_cell": false,
   "toc_position": {},
   "toc_section_display": true,
   "toc_window_display": true
  }
 },
 "nbformat": 4,
 "nbformat_minor": 5
}