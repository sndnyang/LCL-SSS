{
 "cells": [
  {
   "cell_type": "markdown",
   "metadata": {
    "pycharm": {
     "name": "#%% md\n"
    }
   },
   "source": [
    "# requirements.txt\n",
    "\n",
    "pip install keras==2.2.3 scikit-learn==0.19.0 tensorflow-gpu==1.15.0\n",
    "\n",
    "pydot  if you have graphdot\n",
    "\n",
    "source code is from https://github.com/smousavi05/Unsupervised_Deep_Learning\n",
    "\n",
    "the file is from https://github.com/smousavi05/Unsupervised_Deep_Learning/blob/master/unsupervised_deep_learning.ipynb"
   ]
  },
  {
   "cell_type": "code",
   "execution_count": 1,
   "metadata": {
    "ExecuteTime": {
     "end_time": "2022-07-15T23:37:08.799723Z",
     "start_time": "2022-07-15T23:37:06.464547Z"
    },
    "pycharm": {
     "name": "#%%\n"
    }
   },
   "outputs": [
    {
     "name": "stderr",
     "output_type": "stream",
     "text": [
      "Using TensorFlow backend.\n"
     ]
    }
   ],
   "source": [
    "from __future__ import print_function\n",
    "import numpy as np\n",
    "import h5py\n",
    "import glob\n",
    "import math\n",
    "import os\n",
    "import shutil\n",
    "from scipy import signal\n",
    "import tensorflow.keras\n",
    "from scipy.signal import butter, lfilter\n",
    "from keras.layers import Input, Dense, Conv2D, MaxPooling2D, UpSampling2D, Conv1D, MaxPooling1D, UpSampling1D, Flatten, Dropout, Reshape \n",
    "from keras.layers import Bidirectional, BatchNormalization, ZeroPadding1D, Conv2DTranspose\n",
    "from keras.models import Model\n",
    "from keras import backend as K\n",
    "from keras.optimizers import SGD, Adam\n",
    "from keras import regularizers\n",
    "from keras.engine.topology import Layer, InputSpec\n",
    "from keras.callbacks import ModelCheckpoint, LearningRateScheduler, ReduceLROnPlateau, EarlyStopping\n",
    "from keras.initializers import VarianceScaling\n",
    "from keras.callbacks import CSVLogger\n",
    "from sklearn.utils.linear_assignment_ import linear_assignment\n",
    "from sklearn.decomposition import PCA\n",
    "from sklearn.cluster import KMeans\n",
    "import idac_metrics as metrics\n",
    "import matplotlib.pyplot as plt\n",
    "from matplotlib.pyplot import savefig\n",
    "\n",
    "import seaborn as sns\n",
    "sns.set_style('darkgrid')\n",
    "sns.set_palette('muted')"
   ]
  },
  {
   "cell_type": "code",
   "execution_count": 2,
   "metadata": {
    "ExecuteTime": {
     "end_time": "2022-07-15T23:37:08.803566Z",
     "start_time": "2022-07-15T23:37:08.801473Z"
    }
   },
   "outputs": [],
   "source": [
    "import logging\n",
    "logging.disable(30)   # disable the deprecated warning from tensorflow"
   ]
  },
  {
   "cell_type": "markdown",
   "metadata": {
    "pycharm": {
     "name": "#%% md\n"
    }
   },
   "source": [
    "# Loading the data"
   ]
  },
  {
   "cell_type": "markdown",
   "metadata": {
    "ExecuteTime": {
     "end_time": "2022-07-15T16:30:21.799368Z",
     "start_time": "2022-07-15T16:30:21.764123Z"
    },
    "pycharm": {
     "name": "#%%\n"
    }
   },
   "source": [
    "data in original paper\n",
    "\n",
    "x = np.load('x.np.npy') # STFT of local and teleseismic waveforms\n",
    "y = np.load('y.np.npy') # labels\n",
    "n_clusters = 2\n",
    "\n",
    "the shape is (size, 16, 48, 1)\n",
    "\n",
    "Next, we will read our data"
   ]
  },
  {
   "cell_type": "code",
   "execution_count": 3,
   "metadata": {
    "ExecuteTime": {
     "end_time": "2022-07-15T23:37:16.893880Z",
     "start_time": "2022-07-15T23:37:08.805495Z"
    }
   },
   "outputs": [],
   "source": [
    "from scipy.io import loadmat\n",
    "train_data = loadmat('earthb.mat')\n",
    "all_data = train_data['images']\n",
    "all_target = train_data['labels']"
   ]
  },
  {
   "cell_type": "code",
   "execution_count": 4,
   "metadata": {
    "ExecuteTime": {
     "end_time": "2022-07-15T23:37:16.899279Z",
     "start_time": "2022-07-15T23:37:16.896759Z"
    }
   },
   "outputs": [],
   "source": [
    "n_clusters = 3"
   ]
  },
  {
   "cell_type": "code",
   "execution_count": null,
   "outputs": [],
   "source": [
    "from data_utils import get_data\n",
    "\n",
    "\n",
    "data = get_data(all_data, all_target, dataset='eq', seed=1, shape=[-1, 50, 40, 3], select=None, norm=True)\n"
   ],
   "metadata": {
    "collapsed": false,
    "pycharm": {
     "name": "#%%\n"
    }
   }
  },
  {
   "cell_type": "code",
   "execution_count": null,
   "outputs": [],
   "source": [
    "x_train, x_valid, x_test, y_train, y_valid, y_test, splits, splits_test = data\n",
    "print('data shape %s' % str(x_train.shape) + str(x_valid.shape) + str(x_test.shape))"
   ],
   "metadata": {
    "collapsed": false,
    "pycharm": {
     "name": "#%%\n"
    }
   }
  },
  {
   "cell_type": "code",
   "execution_count": null,
   "outputs": [],
   "source": [
    "x_train, x_valid, x_test = x_train[:, 5:45, :, :], x_valid[:, 5:45, :, :], x_test[:, 5:45, :, :]\n",
    "print('data shape %s' % str(x_train.shape) + str(x_valid.shape) + str(x_test.shape))"
   ],
   "metadata": {
    "collapsed": false,
    "pycharm": {
     "name": "#%%\n"
    }
   }
  },
  {
   "cell_type": "markdown",
   "source": [
    "# Building the autoencoder"
   ],
   "metadata": {
    "collapsed": false,
    "pycharm": {
     "name": "#%% md\n"
    }
   }
  },
  {
   "cell_type": "code",
   "execution_count": null,
   "outputs": [],
   "source": [
    "inp = Input(shape=(40, 40, 3))  \n",
    "e = Conv2D(4, (3, 3), activation='tanh', padding='same')(inp)\n",
    "e = MaxPooling2D((2, 2), padding='same')(e)\n",
    "e = Conv2D(2, (3, 3), activation='tanh', padding='same')(e)\n",
    "e = MaxPooling2D((2, 2), padding='same')(e)\n",
    "e = Conv2D(1, (3, 3), activation='tanh', padding='same')(e)\n",
    "e = MaxPooling2D((2, 2), padding='same')(e)\n",
    "\n",
    "shape_before_flattening = K.int_shape(e)\n",
    "encoded = Flatten()(e)\n",
    "d = Reshape(shape_before_flattening[1:])(encoded)\n",
    "\n",
    "d = Conv2D(1, (3, 3), activation='tanh', padding='same')(d)\n",
    "d = UpSampling2D((2, 2))(d)\n",
    "d = Conv2D(2, (3, 3), activation='tanh', padding='same')(d)\n",
    "d = UpSampling2D((2, 2))(d)\n",
    "d = Conv2D(4, (3, 3), activation='tanh', padding='same')(d)\n",
    "d = UpSampling2D((2, 2))(d)\n",
    "decoded = Conv2D(3, (3, 3), padding='same')(d)\n",
    "\n",
    "autoencoder = Model(inputs=inp, outputs=decoded, name='autoencoder')\n",
    "encoder = Model(inputs=inp, outputs=encoded, name='encoder')\n",
    "#autoencoder.summary()\n",
    "\n",
    "# from keras.utils import plot_model\n",
    "# plot_model(autoencoder, to_file='autoencoder.png', show_shapes=True)\n",
    "# from IPython.display import Image\n",
    "# Image(filename='autoencoder.png')"
   ],
   "metadata": {
    "collapsed": false,
    "pycharm": {
     "name": "#%%\n"
    }
   }
  },
  {
   "cell_type": "markdown",
   "source": [
    "# Pretraining of the autoencoder"
   ],
   "metadata": {
    "collapsed": false,
    "pycharm": {
     "name": "#%% md\n"
    }
   }
  },
  {
   "cell_type": "code",
   "execution_count": null,
   "outputs": [],
   "source": [
    "autoencoder.compile(optimizer='adam', loss='mse')\n",
    "csv_logger = CSVLogger('pretrain_log.csv')\n",
    "\n",
    "import time\n",
    "start = time.time()\n",
    "autoencoder.fit(x_train, x_train, batch_size=128, epochs=30, callbacks=[csv_logger])\n",
    "\n",
    "end = time.time()\n",
    "print(\"training time on pretraining is \", end - start)"
   ],
   "metadata": {
    "collapsed": false,
    "pycharm": {
     "name": "#%%\n"
    }
   }
  },
  {
   "cell_type": "markdown",
   "source": [
    "# Now, adding the clustering layer into the bottelneck layer "
   ],
   "metadata": {
    "collapsed": false,
    "pycharm": {
     "name": "#%% md\n"
    }
   }
  },
  {
   "cell_type": "code",
   "execution_count": null,
   "outputs": [],
   "source": [
    "#### clustering layers\n",
    "class ClusteringLayer(Layer):\n",
    "    def __init__(self, n_clusters, weights=None, alpha=1.0, **kwargs):\n",
    "        if 'input_shape' not in kwargs and 'input_dim' in kwargs:\n",
    "            kwargs['input_shape'] = (kwargs.pop('input_dim'),)\n",
    "        super(ClusteringLayer, self).__init__(**kwargs)\n",
    "        self.n_clusters = n_clusters\n",
    "        self.alpha = alpha\n",
    "        self.initial_weights = weights\n",
    "        self.input_spec = InputSpec(ndim=2)\n",
    "\n",
    "    def build(self, input_shape):\n",
    "        assert len(input_shape) == 2\n",
    "        input_dim = input_shape[1]\n",
    "        self.input_spec = InputSpec(dtype=K.floatx(), shape=(None, input_dim))\n",
    "        self.clusters = self.add_weight((self.n_clusters, input_dim), initializer='glorot_uniform', name='clusters')\n",
    "        if self.initial_weights is not None:\n",
    "            self.set_weights(self.initial_weights)\n",
    "            del self.initial_weights\n",
    "        self.built = True\n",
    "\n",
    "    def call(self, inputs, **kwargs):\n",
    "        q = 1.0 / (1.0 + (K.sum(K.square(K.expand_dims(inputs, axis=1) - self.clusters), axis=2) / self.alpha))\n",
    "        q **= (self.alpha + 1.0) / 2.0\n",
    "        q = K.transpose(K.transpose(q) / K.sum(q, axis=1)) \n",
    "        return q\n",
    "\n",
    "    def compute_output_shape(self, input_shape):\n",
    "        assert input_shape and len(input_shape) == 2\n",
    "        return input_shape[0], self.n_clusters\n",
    "\n",
    "    def get_config(self):\n",
    "        config = {'n_clusters': self.n_clusters}\n",
    "        base_config = super(ClusteringLayer, self).get_config()\n",
    "        return dict(list(base_config.items()) + list(config.items()))\n",
    "    \n",
    "print('...Finetuning...')   \n",
    "clustering_layer = ClusteringLayer(n_clusters, name='clustering')(encoder.output)\n",
    "model = Model(inputs=encoder.input, outputs=[clustering_layer, autoencoder.output])\n",
    "model.compile(loss=['kld', 'mse'], loss_weights=[0.1, 1], optimizer='adam')\n",
    "\n",
    "# from keras.utils import plot_model\n",
    "# plot_model(model, to_file='model.png', show_shapes=True)\n",
    "# from IPython.display import Image\n",
    "# Image(filename='model.png')"
   ],
   "metadata": {
    "collapsed": false,
    "pycharm": {
     "name": "#%%\n"
    }
   }
  },
  {
   "cell_type": "markdown",
   "source": [
    "# Finetuning of full network"
   ],
   "metadata": {
    "collapsed": false,
    "pycharm": {
     "name": "#%% md\n"
    }
   }
  },
  {
   "cell_type": "code",
   "execution_count": null,
   "outputs": [],
   "source": [
    "### initializing the weights using Kmean and assigning them to the model\n",
    "kmeans = KMeans(n_clusters=n_clusters, n_init=20)\n",
    "y_pred = kmeans.fit_predict(encoder.predict(x_train))\n",
    "y_pred_last = np.copy(y_pred)\n",
    "model.get_layer(name='clustering').set_weights([kmeans.cluster_centers_])\n"
   ],
   "metadata": {
    "collapsed": false,
    "pycharm": {
     "name": "#%%\n"
    }
   }
  },
  {
   "cell_type": "code",
   "execution_count": null,
   "outputs": [],
   "source": [
    "metrics.acc(y_train, y_pred)"
   ],
   "metadata": {
    "collapsed": false,
    "pycharm": {
     "name": "#%%\n"
    }
   }
  },
  {
   "cell_type": "code",
   "execution_count": null,
   "outputs": [],
   "source": [
    "\n",
    "## parameters for the finetuning\n",
    "batch_size = 128\n",
    "tol = 0.001 # tolerance threshold to stop training\n",
    "loss = 0\n",
    "index = 0\n",
    "maxiter = 5000\n",
    "update_interval = int(x_train.shape[0] / batch_size) + 1\n",
    "index_array = np.arange(x_train.shape[0])"
   ],
   "metadata": {
    "collapsed": false,
    "pycharm": {
     "name": "#%%\n"
    }
   }
  },
  {
   "cell_type": "code",
   "execution_count": null,
   "outputs": [],
   "source": [
    "from utils import cluster_acc"
   ],
   "metadata": {
    "collapsed": false,
    "pycharm": {
     "name": "#%%\n"
    }
   }
  },
  {
   "cell_type": "code",
   "execution_count": null,
   "outputs": [],
   "source": [
    "\n",
    "###############################################################################\n",
    "### simultaneous optimization and clustering\n",
    "def target_distribution(q):\n",
    "    weight = q ** 2 / q.sum(0)\n",
    "    return (weight.T / weight.sum(1)).T\n",
    "\n",
    "start_finetune = time.time()\n",
    "\n",
    "for ite in range(int(maxiter)):\n",
    "    if ite % update_interval == 0:\n",
    "        q, _  = model.predict(x_train, verbose=0)\n",
    "        p = target_distribution(q)  # update the auxiliary target distribution p       \n",
    "        y_pred = q.argmax(1) # evaluate the clustering performance\n",
    "\n",
    "        if y_train is not None:\n",
    "            acc = np.round(metrics.acc(y_train, y_pred), 5)\n",
    "            loss = np.round(loss, 5)\n",
    "            print('Iter %d(Epoch %d): acc = %.5f' % (ite, ite // update_interval, acc), ' ; loss=', loss, '; time = ', time.time() - start_finetune)\n",
    "            cluster_acc(y_train, y_pred)\n",
    "            \n",
    "\n",
    "        # check stop criterion\n",
    "        delta_label = np.sum(y_pred != y_pred_last).astype(np.float32) / y_pred.shape[0]\n",
    "        y_pred_last = np.copy(y_pred)\n",
    "\n",
    "#         if ite > 0 and delta_label < tol:\n",
    "#             print('delta_label ', delta_label, '< tol ', tol)\n",
    "#             break\n",
    "        \n",
    "        IN = encoder.predict(x_train)        \n",
    "    \n",
    "    idx = index_array[index * batch_size: min((index+1) * batch_size, x_train.shape[0])]\n",
    "    loss = model.train_on_batch(x=x_train[idx], y=[p[idx], x_train[idx]])\n",
    "    index = index + 1 if (index + 1) * batch_size <= x_train.shape[0] else 0  \n",
    "\n",
    "end_finetune = time.time()\n",
    "\n",
    "print('pretraining time=', end - start, 'fine tune time =', end_finetune - start_finetune, 'iterations:', maxiter)\n",
    "\n",
    "print('fine tune speed: seconds per epoch', (end_finetune - start_finetune) / maxiter * update_interval)"
   ],
   "metadata": {
    "collapsed": false,
    "pycharm": {
     "name": "#%%\n"
    }
   }
  },
  {
   "cell_type": "code",
   "execution_count": null,
   "outputs": [],
   "source": [],
   "metadata": {
    "collapsed": false,
    "pycharm": {
     "name": "#%%\n"
    }
   }
  },
  {
   "cell_type": "code",
   "execution_count": 34,
   "metadata": {
    "ExecuteTime": {
     "end_time": "2022-07-15T23:43:11.853780Z",
     "start_time": "2022-07-15T23:43:11.849602Z"
    }
   },
   "outputs": [],
   "source": [
    "from utils import cluster_acc"
   ]
  },
  {
   "cell_type": "code",
   "execution_count": 36,
   "metadata": {
    "ExecuteTime": {
     "end_time": "2022-07-15T23:45:15.049059Z",
     "start_time": "2022-07-15T23:43:31.135134Z"
    },
    "pycharm": {
     "name": "#%%\n"
    },
    "scrolled": true
   },
   "outputs": [
    {
     "name": "stderr",
     "output_type": "stream",
     "text": [
      "2022-07-15 19:43:32.308 | INFO     | utils:prec_recall_f1:10 - precision recall  F1 score in    micro:  0.4265 | 0.4265 | 0.4265\n",
      "2022-07-15 19:43:32.312 | INFO     | utils:prec_recall_f1:13 - precision recall  F1 score in    macro:  0.3801 | 0.3667 | 0.3592\n",
      "2022-07-15 19:43:32.315 | INFO     | utils:prec_recall_f1:16 - precision recall  F1 score in weighted:  0.4127 | 0.4265 | 0.4042\n"
     ]
    },
    {
     "name": "stdout",
     "output_type": "stream",
     "text": [
      "Iter 0(Epoch 0): acc = 0.42649  ; loss= 0 ; time =  1.144502878189087\n"
     ]
    },
    {
     "name": "stderr",
     "output_type": "stream",
     "text": [
      "2022-07-15 19:43:36.092 | INFO     | utils:prec_recall_f1:10 - precision recall  F1 score in    micro:  0.3916 | 0.3916 | 0.3916\n",
      "2022-07-15 19:43:36.095 | INFO     | utils:prec_recall_f1:13 - precision recall  F1 score in    macro:  0.3706 | 0.3637 | 0.3661\n",
      "2022-07-15 19:43:36.098 | INFO     | utils:prec_recall_f1:16 - precision recall  F1 score in weighted:  0.3975 | 0.3916 | 0.3936\n"
     ]
    },
    {
     "name": "stdout",
     "output_type": "stream",
     "text": [
      "Iter 109(Epoch 1): acc = 0.39163  ; loss= [0.00015 0.      0.00015] ; time =  4.928821563720703\n"
     ]
    },
    {
     "name": "stderr",
     "output_type": "stream",
     "text": [
      "2022-07-15 19:43:38.124 | INFO     | utils:prec_recall_f1:10 - precision recall  F1 score in    micro:  0.3787 | 0.3787 | 0.3787\n",
      "2022-07-15 19:43:38.127 | INFO     | utils:prec_recall_f1:13 - precision recall  F1 score in    macro:  0.3835 | 0.4004 | 0.3808\n",
      "2022-07-15 19:43:38.130 | INFO     | utils:prec_recall_f1:16 - precision recall  F1 score in weighted:  0.3938 | 0.3787 | 0.3761\n"
     ]
    },
    {
     "name": "stdout",
     "output_type": "stream",
     "text": [
      "Iter 218(Epoch 2): acc = 0.37874  ; loss= [0.00015 0.      0.00015] ; time =  6.960818290710449\n"
     ]
    },
    {
     "name": "stderr",
     "output_type": "stream",
     "text": [
      "2022-07-15 19:43:40.368 | INFO     | utils:prec_recall_f1:10 - precision recall  F1 score in    micro:  0.3743 | 0.3743 | 0.3743\n",
      "2022-07-15 19:43:40.371 | INFO     | utils:prec_recall_f1:13 - precision recall  F1 score in    macro:  0.3727 | 0.3827 | 0.3730\n",
      "2022-07-15 19:43:40.374 | INFO     | utils:prec_recall_f1:16 - precision recall  F1 score in weighted:  0.3853 | 0.3743 | 0.3751\n"
     ]
    },
    {
     "name": "stdout",
     "output_type": "stream",
     "text": [
      "Iter 327(Epoch 3): acc = 0.37434  ; loss= [0.00015 0.      0.00015] ; time =  9.204825401306152\n"
     ]
    },
    {
     "name": "stderr",
     "output_type": "stream",
     "text": [
      "2022-07-15 19:43:42.491 | INFO     | utils:prec_recall_f1:10 - precision recall  F1 score in    micro:  0.3665 | 0.3665 | 0.3665\n",
      "2022-07-15 19:43:42.495 | INFO     | utils:prec_recall_f1:13 - precision recall  F1 score in    macro:  0.3573 | 0.3609 | 0.3572\n",
      "2022-07-15 19:43:42.498 | INFO     | utils:prec_recall_f1:16 - precision recall  F1 score in weighted:  0.3724 | 0.3665 | 0.3673\n"
     ]
    },
    {
     "name": "stdout",
     "output_type": "stream",
     "text": [
      "Iter 436(Epoch 4): acc = 0.36649  ; loss= [0.00015 0.      0.00015] ; time =  11.328062534332275\n"
     ]
    },
    {
     "name": "stderr",
     "output_type": "stream",
     "text": [
      "2022-07-15 19:43:44.737 | INFO     | utils:prec_recall_f1:10 - precision recall  F1 score in    micro:  0.3660 | 0.3660 | 0.3660\n",
      "2022-07-15 19:43:44.740 | INFO     | utils:prec_recall_f1:13 - precision recall  F1 score in    macro:  0.3551 | 0.3579 | 0.3547\n",
      "2022-07-15 19:43:44.743 | INFO     | utils:prec_recall_f1:16 - precision recall  F1 score in weighted:  0.3709 | 0.3660 | 0.3665\n"
     ]
    },
    {
     "name": "stdout",
     "output_type": "stream",
     "text": [
      "Iter 545(Epoch 5): acc = 0.36599  ; loss= [0.00015 0.      0.00015] ; time =  13.573465347290039\n"
     ]
    },
    {
     "name": "stderr",
     "output_type": "stream",
     "text": [
      "2022-07-15 19:43:46.919 | INFO     | utils:prec_recall_f1:10 - precision recall  F1 score in    micro:  0.3687 | 0.3687 | 0.3687\n",
      "2022-07-15 19:43:46.922 | INFO     | utils:prec_recall_f1:13 - precision recall  F1 score in    macro:  0.3578 | 0.3607 | 0.3578\n",
      "2022-07-15 19:43:46.925 | INFO     | utils:prec_recall_f1:16 - precision recall  F1 score in weighted:  0.3738 | 0.3687 | 0.3696\n"
     ]
    },
    {
     "name": "stdout",
     "output_type": "stream",
     "text": [
      "Iter 654(Epoch 6): acc = 0.36872  ; loss= [1.5e-04 1.0e-05 1.4e-04] ; time =  15.756539583206177\n"
     ]
    },
    {
     "name": "stderr",
     "output_type": "stream",
     "text": [
      "2022-07-15 19:43:49.041 | INFO     | utils:prec_recall_f1:10 - precision recall  F1 score in    micro:  0.3699 | 0.3699 | 0.3699\n",
      "2022-07-15 19:43:49.044 | INFO     | utils:prec_recall_f1:13 - precision recall  F1 score in    macro:  0.3614 | 0.3655 | 0.3618\n",
      "2022-07-15 19:43:49.047 | INFO     | utils:prec_recall_f1:16 - precision recall  F1 score in weighted:  0.3770 | 0.3699 | 0.3716\n"
     ]
    },
    {
     "name": "stdout",
     "output_type": "stream",
     "text": [
      "Iter 763(Epoch 7): acc = 0.36995  ; loss= [0.00016 0.00013 0.00014] ; time =  17.878106355667114\n"
     ]
    },
    {
     "name": "stderr",
     "output_type": "stream",
     "text": [
      "2022-07-15 19:43:51.169 | INFO     | utils:prec_recall_f1:10 - precision recall  F1 score in    micro:  0.3791 | 0.3791 | 0.3791\n",
      "2022-07-15 19:43:51.172 | INFO     | utils:prec_recall_f1:13 - precision recall  F1 score in    macro:  0.3723 | 0.3768 | 0.3724\n",
      "2022-07-15 19:43:51.175 | INFO     | utils:prec_recall_f1:16 - precision recall  F1 score in weighted:  0.3886 | 0.3791 | 0.3817\n"
     ]
    },
    {
     "name": "stdout",
     "output_type": "stream",
     "text": [
      "Iter 872(Epoch 8): acc = 0.37910  ; loss= [0.00045 0.0031  0.00014] ; time =  20.005810260772705\n"
     ]
    },
    {
     "name": "stderr",
     "output_type": "stream",
     "text": [
      "2022-07-15 19:43:53.375 | INFO     | utils:prec_recall_f1:10 - precision recall  F1 score in    micro:  0.3870 | 0.3870 | 0.3870\n",
      "2022-07-15 19:43:53.378 | INFO     | utils:prec_recall_f1:13 - precision recall  F1 score in    macro:  0.3804 | 0.3842 | 0.3801\n",
      "2022-07-15 19:43:53.381 | INFO     | utils:prec_recall_f1:16 - precision recall  F1 score in weighted:  0.3972 | 0.3870 | 0.3901\n"
     ]
    },
    {
     "name": "stdout",
     "output_type": "stream",
     "text": [
      "Iter 981(Epoch 9): acc = 0.38702  ; loss= [0.00173 0.01585 0.00014] ; time =  22.211782693862915\n"
     ]
    },
    {
     "name": "stderr",
     "output_type": "stream",
     "text": [
      "2022-07-15 19:43:55.654 | INFO     | utils:prec_recall_f1:10 - precision recall  F1 score in    micro:  0.3914 | 0.3914 | 0.3914\n",
      "2022-07-15 19:43:55.657 | INFO     | utils:prec_recall_f1:13 - precision recall  F1 score in    macro:  0.3828 | 0.3847 | 0.3820\n",
      "2022-07-15 19:43:55.660 | INFO     | utils:prec_recall_f1:16 - precision recall  F1 score in weighted:  0.4010 | 0.3914 | 0.3947\n"
     ]
    },
    {
     "name": "stdout",
     "output_type": "stream",
     "text": [
      "Iter 1090(Epoch 10): acc = 0.39141  ; loss= [0.003   0.02858 0.00015] ; time =  24.491480588912964\n"
     ]
    },
    {
     "name": "stderr",
     "output_type": "stream",
     "text": [
      "2022-07-15 19:43:57.858 | INFO     | utils:prec_recall_f1:10 - precision recall  F1 score in    micro:  0.3933 | 0.3933 | 0.3933\n",
      "2022-07-15 19:43:57.862 | INFO     | utils:prec_recall_f1:13 - precision recall  F1 score in    macro:  0.3829 | 0.3829 | 0.3814\n",
      "2022-07-15 19:43:57.865 | INFO     | utils:prec_recall_f1:16 - precision recall  F1 score in weighted:  0.4025 | 0.3933 | 0.3967\n"
     ]
    },
    {
     "name": "stdout",
     "output_type": "stream",
     "text": [
      "Iter 1199(Epoch 11): acc = 0.39329  ; loss= [0.00387 0.03725 0.00015] ; time =  26.69501519203186\n"
     ]
    },
    {
     "name": "stderr",
     "output_type": "stream",
     "text": [
      "2022-07-15 19:44:00.120 | INFO     | utils:prec_recall_f1:10 - precision recall  F1 score in    micro:  0.3983 | 0.3983 | 0.3983\n",
      "2022-07-15 19:44:00.123 | INFO     | utils:prec_recall_f1:13 - precision recall  F1 score in    macro:  0.3853 | 0.3831 | 0.3829\n",
      "2022-07-15 19:44:00.127 | INFO     | utils:prec_recall_f1:16 - precision recall  F1 score in weighted:  0.4062 | 0.3983 | 0.4012\n"
     ]
    },
    {
     "name": "stdout",
     "output_type": "stream",
     "text": [
      "Iter 1308(Epoch 12): acc = 0.39826  ; loss= [0.00449 0.04341 0.00015] ; time =  28.95399570465088\n"
     ]
    },
    {
     "name": "stderr",
     "output_type": "stream",
     "text": [
      "2022-07-15 19:44:02.250 | INFO     | utils:prec_recall_f1:10 - precision recall  F1 score in    micro:  0.3993 | 0.3993 | 0.3993\n",
      "2022-07-15 19:44:02.253 | INFO     | utils:prec_recall_f1:13 - precision recall  F1 score in    macro:  0.3819 | 0.3783 | 0.3791\n",
      "2022-07-15 19:44:02.256 | INFO     | utils:prec_recall_f1:16 - precision recall  F1 score in weighted:  0.4046 | 0.3993 | 0.4011\n"
     ]
    },
    {
     "name": "stdout",
     "output_type": "stream",
     "text": [
      "Iter 1417(Epoch 13): acc = 0.39927  ; loss= [0.00501 0.04867 0.00015] ; time =  31.08711862564087\n"
     ]
    },
    {
     "name": "stderr",
     "output_type": "stream",
     "text": [
      "2022-07-15 19:44:04.445 | INFO     | utils:prec_recall_f1:10 - precision recall  F1 score in    micro:  0.3981 | 0.3981 | 0.3981\n",
      "2022-07-15 19:44:04.448 | INFO     | utils:prec_recall_f1:13 - precision recall  F1 score in    macro:  0.3763 | 0.3715 | 0.3728\n",
      "2022-07-15 19:44:04.451 | INFO     | utils:prec_recall_f1:16 - precision recall  F1 score in weighted:  0.4009 | 0.3981 | 0.3985\n"
     ]
    },
    {
     "name": "stdout",
     "output_type": "stream",
     "text": [
      "Iter 1526(Epoch 14): acc = 0.39811  ; loss= [0.00547 0.05324 0.00015] ; time =  33.28182077407837\n"
     ]
    },
    {
     "name": "stderr",
     "output_type": "stream",
     "text": [
      "2022-07-15 19:44:06.617 | INFO     | utils:prec_recall_f1:10 - precision recall  F1 score in    micro:  0.3993 | 0.3993 | 0.3993\n",
      "2022-07-15 19:44:06.620 | INFO     | utils:prec_recall_f1:13 - precision recall  F1 score in    macro:  0.3719 | 0.3671 | 0.3683\n",
      "2022-07-15 19:44:06.623 | INFO     | utils:prec_recall_f1:16 - precision recall  F1 score in weighted:  0.3987 | 0.3993 | 0.3977\n"
     ]
    },
    {
     "name": "stdout",
     "output_type": "stream",
     "text": [
      "Iter 1635(Epoch 15): acc = 0.39934  ; loss= [0.00583 0.05682 0.00015] ; time =  35.45426893234253\n"
     ]
    },
    {
     "name": "stderr",
     "output_type": "stream",
     "text": [
      "2022-07-15 19:44:08.753 | INFO     | utils:prec_recall_f1:10 - precision recall  F1 score in    micro:  0.4018 | 0.4018 | 0.4018\n",
      "2022-07-15 19:44:08.757 | INFO     | utils:prec_recall_f1:13 - precision recall  F1 score in    macro:  0.3686 | 0.3644 | 0.3648\n",
      "2022-07-15 19:44:08.760 | INFO     | utils:prec_recall_f1:16 - precision recall  F1 score in weighted:  0.3972 | 0.4018 | 0.3976\n"
     ]
    },
    {
     "name": "stdout",
     "output_type": "stream",
     "text": [
      "Iter 1744(Epoch 16): acc = 0.40179  ; loss= [0.00611 0.05961 0.00015] ; time =  37.5898973941803\n"
     ]
    },
    {
     "name": "stderr",
     "output_type": "stream",
     "text": [
      "2022-07-15 19:44:10.978 | INFO     | utils:prec_recall_f1:10 - precision recall  F1 score in    micro:  0.4065 | 0.4065 | 0.4065\n",
      "2022-07-15 19:44:10.982 | INFO     | utils:prec_recall_f1:13 - precision recall  F1 score in    macro:  0.3681 | 0.3650 | 0.3642\n",
      "2022-07-15 19:44:10.986 | INFO     | utils:prec_recall_f1:16 - precision recall  F1 score in weighted:  0.3980 | 0.4065 | 0.3997\n"
     ]
    },
    {
     "name": "stdout",
     "output_type": "stream",
     "text": [
      "Iter 1853(Epoch 17): acc = 0.40654  ; loss= [0.00635 0.06202 0.00015] ; time =  39.812801361083984\n"
     ]
    },
    {
     "name": "stderr",
     "output_type": "stream",
     "text": [
      "2022-07-15 19:44:13.280 | INFO     | utils:prec_recall_f1:10 - precision recall  F1 score in    micro:  0.4093 | 0.4093 | 0.4093\n",
      "2022-07-15 19:44:13.283 | INFO     | utils:prec_recall_f1:13 - precision recall  F1 score in    macro:  0.3658 | 0.3643 | 0.3621\n",
      "2022-07-15 19:44:13.286 | INFO     | utils:prec_recall_f1:16 - precision recall  F1 score in weighted:  0.3969 | 0.4093 | 0.3998\n"
     ]
    },
    {
     "name": "stdout",
     "output_type": "stream",
     "text": [
      "Iter 1962(Epoch 18): acc = 0.40928  ; loss= [0.00653 0.06383 0.00015] ; time =  42.11694049835205\n"
     ]
    },
    {
     "name": "stderr",
     "output_type": "stream",
     "text": [
      "2022-07-15 19:44:15.399 | INFO     | utils:prec_recall_f1:10 - precision recall  F1 score in    micro:  0.4148 | 0.4148 | 0.4148\n",
      "2022-07-15 19:44:15.403 | INFO     | utils:prec_recall_f1:13 - precision recall  F1 score in    macro:  0.3675 | 0.3673 | 0.3639\n",
      "2022-07-15 19:44:15.406 | INFO     | utils:prec_recall_f1:16 - precision recall  F1 score in weighted:  0.3994 | 0.4148 | 0.4032\n"
     ]
    },
    {
     "name": "stdout",
     "output_type": "stream",
     "text": [
      "Iter 2071(Epoch 19): acc = 0.41475  ; loss= [0.0067  0.06555 0.00015] ; time =  44.23628044128418\n"
     ]
    },
    {
     "name": "stderr",
     "output_type": "stream",
     "text": [
      "2022-07-15 19:44:17.626 | INFO     | utils:prec_recall_f1:10 - precision recall  F1 score in    micro:  0.4179 | 0.4179 | 0.4179\n",
      "2022-07-15 19:44:17.629 | INFO     | utils:prec_recall_f1:13 - precision recall  F1 score in    macro:  0.3667 | 0.3679 | 0.3633\n",
      "2022-07-15 19:44:17.632 | INFO     | utils:prec_recall_f1:16 - precision recall  F1 score in weighted:  0.3998 | 0.4179 | 0.4044\n"
     ]
    },
    {
     "name": "stdout",
     "output_type": "stream",
     "text": [
      "Iter 2180(Epoch 20): acc = 0.41792  ; loss= [0.00686 0.06716 0.00015] ; time =  46.46320056915283\n"
     ]
    },
    {
     "name": "stderr",
     "output_type": "stream",
     "text": [
      "2022-07-15 19:44:19.721 | INFO     | utils:prec_recall_f1:10 - precision recall  F1 score in    micro:  0.4203 | 0.4203 | 0.4203\n",
      "2022-07-15 19:44:19.725 | INFO     | utils:prec_recall_f1:13 - precision recall  F1 score in    macro:  0.3656 | 0.3683 | 0.3626\n",
      "2022-07-15 19:44:19.728 | INFO     | utils:prec_recall_f1:16 - precision recall  F1 score in weighted:  0.3999 | 0.4203 | 0.4052\n"
     ]
    },
    {
     "name": "stdout",
     "output_type": "stream",
     "text": [
      "Iter 2289(Epoch 21): acc = 0.42030  ; loss= [0.007   0.06853 0.00015] ; time =  48.55824422836304\n"
     ]
    },
    {
     "name": "stderr",
     "output_type": "stream",
     "text": [
      "2022-07-15 19:44:21.874 | INFO     | utils:prec_recall_f1:10 - precision recall  F1 score in    micro:  0.4224 | 0.4224 | 0.4224\n",
      "2022-07-15 19:44:21.877 | INFO     | utils:prec_recall_f1:13 - precision recall  F1 score in    macro:  0.3660 | 0.3694 | 0.3633\n",
      "2022-07-15 19:44:21.880 | INFO     | utils:prec_recall_f1:16 - precision recall  F1 score in weighted:  0.4010 | 0.4224 | 0.4067\n"
     ]
    },
    {
     "name": "stdout",
     "output_type": "stream",
     "text": [
      "Iter 2398(Epoch 22): acc = 0.42239  ; loss= [0.00708 0.06932 0.00015] ; time =  50.710857629776\n"
     ]
    },
    {
     "name": "stderr",
     "output_type": "stream",
     "text": [
      "2022-07-15 19:44:24.045 | INFO     | utils:prec_recall_f1:10 - precision recall  F1 score in    micro:  0.4241 | 0.4241 | 0.4241\n",
      "2022-07-15 19:44:24.048 | INFO     | utils:prec_recall_f1:13 - precision recall  F1 score in    macro:  0.3664 | 0.3708 | 0.3642\n",
      "2022-07-15 19:44:24.051 | INFO     | utils:prec_recall_f1:16 - precision recall  F1 score in weighted:  0.4019 | 0.4241 | 0.4082\n"
     ]
    },
    {
     "name": "stdout",
     "output_type": "stream",
     "text": [
      "Iter 2507(Epoch 23): acc = 0.42412  ; loss= [0.00708 0.06931 0.00015] ; time =  52.88162159919739\n"
     ]
    },
    {
     "name": "stderr",
     "output_type": "stream",
     "text": [
      "2022-07-15 19:44:26.201 | INFO     | utils:prec_recall_f1:10 - precision recall  F1 score in    micro:  0.4269 | 0.4269 | 0.4269\n",
      "2022-07-15 19:44:26.205 | INFO     | utils:prec_recall_f1:13 - precision recall  F1 score in    macro:  0.3677 | 0.3735 | 0.3667\n",
      "2022-07-15 19:44:26.208 | INFO     | utils:prec_recall_f1:16 - precision recall  F1 score in weighted:  0.4039 | 0.4269 | 0.4110\n"
     ]
    },
    {
     "name": "stdout",
     "output_type": "stream",
     "text": [
      "Iter 2616(Epoch 24): acc = 0.42685  ; loss= [0.00703 0.06878 0.00015] ; time =  55.03781867027283\n"
     ]
    },
    {
     "name": "stderr",
     "output_type": "stream",
     "text": [
      "2022-07-15 19:44:28.264 | INFO     | utils:prec_recall_f1:10 - precision recall  F1 score in    micro:  0.4282 | 0.4282 | 0.4282\n",
      "2022-07-15 19:44:28.268 | INFO     | utils:prec_recall_f1:13 - precision recall  F1 score in    macro:  0.3684 | 0.3749 | 0.3682\n",
      "2022-07-15 19:44:28.272 | INFO     | utils:prec_recall_f1:16 - precision recall  F1 score in weighted:  0.4054 | 0.4282 | 0.4129\n"
     ]
    },
    {
     "name": "stdout",
     "output_type": "stream",
     "text": [
      "Iter 2725(Epoch 25): acc = 0.42822  ; loss= [0.00698 0.06835 0.00015] ; time =  57.09971070289612\n"
     ]
    },
    {
     "name": "stderr",
     "output_type": "stream",
     "text": [
      "2022-07-15 19:44:30.426 | INFO     | utils:prec_recall_f1:10 - precision recall  F1 score in    micro:  0.4297 | 0.4297 | 0.4297\n",
      "2022-07-15 19:44:30.429 | INFO     | utils:prec_recall_f1:13 - precision recall  F1 score in    macro:  0.3700 | 0.3768 | 0.3703\n",
      "2022-07-15 19:44:30.432 | INFO     | utils:prec_recall_f1:16 - precision recall  F1 score in weighted:  0.4075 | 0.4297 | 0.4151\n"
     ]
    },
    {
     "name": "stdout",
     "output_type": "stream",
     "text": [
      "Iter 2834(Epoch 26): acc = 0.42966  ; loss= [0.00692 0.06774 0.00015] ; time =  59.26328372955322\n"
     ]
    },
    {
     "name": "stderr",
     "output_type": "stream",
     "text": [
      "2022-07-15 19:44:32.599 | INFO     | utils:prec_recall_f1:10 - precision recall  F1 score in    micro:  0.4307 | 0.4307 | 0.4307\n",
      "2022-07-15 19:44:32.602 | INFO     | utils:prec_recall_f1:13 - precision recall  F1 score in    macro:  0.3725 | 0.3783 | 0.3725\n",
      "2022-07-15 19:44:32.605 | INFO     | utils:prec_recall_f1:16 - precision recall  F1 score in weighted:  0.4102 | 0.4307 | 0.4172\n"
     ]
    },
    {
     "name": "stdout",
     "output_type": "stream",
     "text": [
      "Iter 2943(Epoch 27): acc = 0.43074  ; loss= [0.00687 0.06719 0.00015] ; time =  61.43529176712036\n"
     ]
    },
    {
     "name": "stderr",
     "output_type": "stream",
     "text": [
      "2022-07-15 19:44:34.778 | INFO     | utils:prec_recall_f1:10 - precision recall  F1 score in    micro:  0.4318 | 0.4318 | 0.4318\n",
      "2022-07-15 19:44:34.781 | INFO     | utils:prec_recall_f1:13 - precision recall  F1 score in    macro:  0.3745 | 0.3793 | 0.3741\n",
      "2022-07-15 19:44:34.784 | INFO     | utils:prec_recall_f1:16 - precision recall  F1 score in weighted:  0.4126 | 0.4318 | 0.4190\n"
     ]
    },
    {
     "name": "stdout",
     "output_type": "stream",
     "text": [
      "Iter 3052(Epoch 28): acc = 0.43175  ; loss= [0.00681 0.0666  0.00015] ; time =  63.61430263519287\n"
     ]
    },
    {
     "name": "stderr",
     "output_type": "stream",
     "text": [
      "2022-07-15 19:44:36.992 | INFO     | utils:prec_recall_f1:10 - precision recall  F1 score in    micro:  0.4336 | 0.4336 | 0.4336\n",
      "2022-07-15 19:44:36.995 | INFO     | utils:prec_recall_f1:13 - precision recall  F1 score in    macro:  0.3782 | 0.3811 | 0.3769\n",
      "2022-07-15 19:44:36.999 | INFO     | utils:prec_recall_f1:16 - precision recall  F1 score in weighted:  0.4168 | 0.4336 | 0.4221\n"
     ]
    },
    {
     "name": "stdout",
     "output_type": "stream",
     "text": [
      "Iter 3161(Epoch 29): acc = 0.43362  ; loss= [0.0068  0.06644 0.00015] ; time =  65.82814335823059\n"
     ]
    },
    {
     "name": "stderr",
     "output_type": "stream",
     "text": [
      "2022-07-15 19:44:39.296 | INFO     | utils:prec_recall_f1:10 - precision recall  F1 score in    micro:  0.4338 | 0.4338 | 0.4338\n",
      "2022-07-15 19:44:39.300 | INFO     | utils:prec_recall_f1:13 - precision recall  F1 score in    macro:  0.3801 | 0.3811 | 0.3778\n",
      "2022-07-15 19:44:39.303 | INFO     | utils:prec_recall_f1:16 - precision recall  F1 score in weighted:  0.4194 | 0.4338 | 0.4234\n"
     ]
    },
    {
     "name": "stdout",
     "output_type": "stream",
     "text": [
      "Iter 3270(Epoch 30): acc = 0.43384  ; loss= [0.00681 0.06655 0.00015] ; time =  68.13114857673645\n"
     ]
    },
    {
     "name": "stderr",
     "output_type": "stream",
     "text": [
      "2022-07-15 19:44:41.669 | INFO     | utils:prec_recall_f1:10 - precision recall  F1 score in    micro:  0.4340 | 0.4340 | 0.4340\n",
      "2022-07-15 19:44:41.673 | INFO     | utils:prec_recall_f1:13 - precision recall  F1 score in    macro:  0.3842 | 0.3816 | 0.3799\n",
      "2022-07-15 19:44:41.677 | INFO     | utils:prec_recall_f1:16 - precision recall  F1 score in weighted:  0.4234 | 0.4340 | 0.4254\n"
     ]
    },
    {
     "name": "stdout",
     "output_type": "stream",
     "text": [
      "Iter 3379(Epoch 31): acc = 0.43398  ; loss= [0.00681 0.06661 0.00015] ; time =  70.50336456298828\n"
     ]
    },
    {
     "name": "stderr",
     "output_type": "stream",
     "text": [
      "2022-07-15 19:44:44.007 | INFO     | utils:prec_recall_f1:10 - precision recall  F1 score in    micro:  0.4325 | 0.4325 | 0.4325\n",
      "2022-07-15 19:44:44.011 | INFO     | utils:prec_recall_f1:13 - precision recall  F1 score in    macro:  0.3884 | 0.3804 | 0.3810\n",
      "2022-07-15 19:44:44.014 | INFO     | utils:prec_recall_f1:16 - precision recall  F1 score in weighted:  0.4278 | 0.4325 | 0.4263\n"
     ]
    },
    {
     "name": "stdout",
     "output_type": "stream",
     "text": [
      "Iter 3488(Epoch 32): acc = 0.43247  ; loss= [0.00683 0.0668  0.00015] ; time =  72.84070634841919\n"
     ]
    },
    {
     "name": "stderr",
     "output_type": "stream",
     "text": [
      "2022-07-15 19:44:46.326 | INFO     | utils:prec_recall_f1:10 - precision recall  F1 score in    micro:  0.4312 | 0.4312 | 0.4312\n",
      "2022-07-15 19:44:46.330 | INFO     | utils:prec_recall_f1:13 - precision recall  F1 score in    macro:  0.3924 | 0.3799 | 0.3823\n",
      "2022-07-15 19:44:46.334 | INFO     | utils:prec_recall_f1:16 - precision recall  F1 score in weighted:  0.4318 | 0.4312 | 0.4274\n"
     ]
    },
    {
     "name": "stdout",
     "output_type": "stream",
     "text": [
      "Iter 3597(Epoch 33): acc = 0.43117  ; loss= [0.00686 0.06708 0.00015] ; time =  75.16052174568176\n"
     ]
    },
    {
     "name": "stderr",
     "output_type": "stream",
     "text": [
      "2022-07-15 19:44:48.567 | INFO     | utils:prec_recall_f1:10 - precision recall  F1 score in    micro:  0.4271 | 0.4271 | 0.4271\n",
      "2022-07-15 19:44:48.572 | INFO     | utils:prec_recall_f1:13 - precision recall  F1 score in    macro:  0.3952 | 0.3764 | 0.3811\n",
      "2022-07-15 19:44:48.576 | INFO     | utils:prec_recall_f1:16 - precision recall  F1 score in weighted:  0.4350 | 0.4271 | 0.4262\n"
     ]
    },
    {
     "name": "stdout",
     "output_type": "stream",
     "text": [
      "Iter 3706(Epoch 34): acc = 0.42714  ; loss= [0.00694 0.06791 0.00015] ; time =  77.39619016647339\n"
     ]
    },
    {
     "name": "stderr",
     "output_type": "stream",
     "text": [
      "2022-07-15 19:44:51.010 | INFO     | utils:prec_recall_f1:10 - precision recall  F1 score in    micro:  0.4272 | 0.4272 | 0.4272\n",
      "2022-07-15 19:44:51.014 | INFO     | utils:prec_recall_f1:13 - precision recall  F1 score in    macro:  0.3803 | 0.3753 | 0.3755\n",
      "2022-07-15 19:44:51.018 | INFO     | utils:prec_recall_f1:16 - precision recall  F1 score in weighted:  0.4218 | 0.4272 | 0.4219\n"
     ]
    },
    {
     "name": "stdout",
     "output_type": "stream",
     "text": [
      "Iter 3815(Epoch 35): acc = 0.42721  ; loss= [0.00709 0.06933 0.00015] ; time =  79.84034013748169\n"
     ]
    },
    {
     "name": "stderr",
     "output_type": "stream",
     "text": [
      "2022-07-15 19:44:53.346 | INFO     | utils:prec_recall_f1:10 - precision recall  F1 score in    micro:  0.4361 | 0.4361 | 0.4361\n",
      "2022-07-15 19:44:53.350 | INFO     | utils:prec_recall_f1:13 - precision recall  F1 score in    macro:  0.3820 | 0.3842 | 0.3816\n",
      "2022-07-15 19:44:53.353 | INFO     | utils:prec_recall_f1:16 - precision recall  F1 score in weighted:  0.4239 | 0.4361 | 0.4283\n"
     ]
    },
    {
     "name": "stdout",
     "output_type": "stream",
     "text": [
      "Iter 3924(Epoch 36): acc = 0.43614  ; loss= [0.0073  0.07147 0.00015] ; time =  82.18117880821228\n"
     ]
    },
    {
     "name": "stderr",
     "output_type": "stream",
     "text": [
      "2022-07-15 19:44:55.658 | INFO     | utils:prec_recall_f1:10 - precision recall  F1 score in    micro:  0.4434 | 0.4434 | 0.4434\n",
      "2022-07-15 19:44:55.661 | INFO     | utils:prec_recall_f1:13 - precision recall  F1 score in    macro:  0.3823 | 0.3915 | 0.3859\n",
      "2022-07-15 19:44:55.665 | INFO     | utils:prec_recall_f1:16 - precision recall  F1 score in weighted:  0.4247 | 0.4434 | 0.4328\n"
     ]
    },
    {
     "name": "stdout",
     "output_type": "stream",
     "text": [
      "Iter 4033(Epoch 37): acc = 0.44342  ; loss= [0.00754 0.07389 0.00015] ; time =  84.49248051643372\n"
     ]
    },
    {
     "name": "stderr",
     "output_type": "stream",
     "text": [
      "2022-07-15 19:44:57.902 | INFO     | utils:prec_recall_f1:10 - precision recall  F1 score in    micro:  0.4521 | 0.4521 | 0.4521\n",
      "2022-07-15 19:44:57.905 | INFO     | utils:prec_recall_f1:13 - precision recall  F1 score in    macro:  0.3829 | 0.4000 | 0.3904\n",
      "2022-07-15 19:44:57.908 | INFO     | utils:prec_recall_f1:16 - precision recall  F1 score in weighted:  0.4261 | 0.4521 | 0.4379\n"
     ]
    },
    {
     "name": "stdout",
     "output_type": "stream",
     "text": [
      "Iter 4142(Epoch 38): acc = 0.45206  ; loss= [0.00783 0.07673 0.00016] ; time =  86.73893928527832\n"
     ]
    },
    {
     "name": "stderr",
     "output_type": "stream",
     "text": [
      "2022-07-15 19:45:00.176 | INFO     | utils:prec_recall_f1:10 - precision recall  F1 score in    micro:  0.4585 | 0.4585 | 0.4585\n",
      "2022-07-15 19:45:00.180 | INFO     | utils:prec_recall_f1:13 - precision recall  F1 score in    macro:  0.3832 | 0.4068 | 0.3936\n",
      "2022-07-15 19:45:00.182 | INFO     | utils:prec_recall_f1:16 - precision recall  F1 score in weighted:  0.4268 | 0.4585 | 0.4413\n"
     ]
    },
    {
     "name": "stdout",
     "output_type": "stream",
     "text": [
      "Iter 4251(Epoch 39): acc = 0.45847  ; loss= [0.00805 0.07896 0.00016] ; time =  89.01352262496948\n"
     ]
    },
    {
     "name": "stderr",
     "output_type": "stream",
     "text": [
      "2022-07-15 19:45:02.404 | INFO     | utils:prec_recall_f1:10 - precision recall  F1 score in    micro:  0.4627 | 0.4627 | 0.4627\n",
      "2022-07-15 19:45:02.407 | INFO     | utils:prec_recall_f1:13 - precision recall  F1 score in    macro:  0.3827 | 0.4112 | 0.3951\n",
      "2022-07-15 19:45:02.411 | INFO     | utils:prec_recall_f1:16 - precision recall  F1 score in weighted:  0.4268 | 0.4627 | 0.4430\n"
     ]
    },
    {
     "name": "stdout",
     "output_type": "stream",
     "text": [
      "Iter 4360(Epoch 40): acc = 0.46265  ; loss= [0.00824 0.08081 0.00016] ; time =  91.2388207912445\n"
     ]
    },
    {
     "name": "stderr",
     "output_type": "stream",
     "text": [
      "2022-07-15 19:45:04.560 | INFO     | utils:prec_recall_f1:10 - precision recall  F1 score in    micro:  0.4661 | 0.4661 | 0.4661\n",
      "2022-07-15 19:45:04.563 | INFO     | utils:prec_recall_f1:13 - precision recall  F1 score in    macro:  0.3824 | 0.4153 | 0.3964\n",
      "2022-07-15 19:45:04.566 | INFO     | utils:prec_recall_f1:16 - precision recall  F1 score in weighted:  0.4267 | 0.4661 | 0.4442\n"
     ]
    },
    {
     "name": "stdout",
     "output_type": "stream",
     "text": [
      "Iter 4469(Epoch 41): acc = 0.46611  ; loss= [0.00837 0.08212 0.00016] ; time =  93.39611387252808\n"
     ]
    },
    {
     "name": "stderr",
     "output_type": "stream",
     "text": [
      "2022-07-15 19:45:06.828 | INFO     | utils:prec_recall_f1:10 - precision recall  F1 score in    micro:  0.4695 | 0.4695 | 0.4695\n",
      "2022-07-15 19:45:06.832 | INFO     | utils:prec_recall_f1:13 - precision recall  F1 score in    macro:  0.3823 | 0.4196 | 0.3977\n",
      "2022-07-15 19:45:06.835 | INFO     | utils:prec_recall_f1:16 - precision recall  F1 score in weighted:  0.4272 | 0.4695 | 0.4455\n"
     ]
    },
    {
     "name": "stdout",
     "output_type": "stream",
     "text": [
      "Iter 4578(Epoch 42): acc = 0.46950  ; loss= [0.00847 0.08311 0.00016] ; time =  95.66265034675598\n"
     ]
    },
    {
     "name": "stderr",
     "output_type": "stream",
     "text": [
      "2022-07-15 19:45:09.086 | INFO     | utils:prec_recall_f1:10 - precision recall  F1 score in    micro:  0.4719 | 0.4719 | 0.4719\n",
      "2022-07-15 19:45:09.091 | INFO     | utils:prec_recall_f1:13 - precision recall  F1 score in    macro:  0.3823 | 0.4233 | 0.3986\n",
      "2022-07-15 19:45:09.096 | INFO     | utils:prec_recall_f1:16 - precision recall  F1 score in weighted:  0.4274 | 0.4719 | 0.4460\n"
     ]
    },
    {
     "name": "stdout",
     "output_type": "stream",
     "text": [
      "Iter 4687(Epoch 43): acc = 0.47194  ; loss= [0.00854 0.08388 0.00016] ; time =  97.91162395477295\n"
     ]
    },
    {
     "name": "stderr",
     "output_type": "stream",
     "text": [
      "2022-07-15 19:45:11.351 | INFO     | utils:prec_recall_f1:10 - precision recall  F1 score in    micro:  0.4755 | 0.4755 | 0.4755\n",
      "2022-07-15 19:45:11.355 | INFO     | utils:prec_recall_f1:13 - precision recall  F1 score in    macro:  0.3836 | 0.4279 | 0.4005\n",
      "2022-07-15 19:45:11.358 | INFO     | utils:prec_recall_f1:16 - precision recall  F1 score in weighted:  0.4287 | 0.4755 | 0.4475\n"
     ]
    },
    {
     "name": "stdout",
     "output_type": "stream",
     "text": [
      "Iter 4796(Epoch 44): acc = 0.47547  ; loss= [0.00851 0.08349 0.00016] ; time =  100.1865758895874\n"
     ]
    },
    {
     "name": "stderr",
     "output_type": "stream",
     "text": [
      "2022-07-15 19:45:13.677 | INFO     | utils:prec_recall_f1:10 - precision recall  F1 score in    micro:  0.4768 | 0.4768 | 0.4768\n",
      "2022-07-15 19:45:13.680 | INFO     | utils:prec_recall_f1:13 - precision recall  F1 score in    macro:  0.3840 | 0.4306 | 0.4009\n",
      "2022-07-15 19:45:13.684 | INFO     | utils:prec_recall_f1:16 - precision recall  F1 score in weighted:  0.4291 | 0.4768 | 0.4473\n"
     ]
    },
    {
     "name": "stdout",
     "output_type": "stream",
     "text": [
      "Iter 4905(Epoch 45): acc = 0.47677  ; loss= [0.00843 0.08275 0.00016] ; time =  102.51109290122986\n",
      "pretraining time= 32.79255199432373 fine tune time = 103.89491558074951 iterations: 5000\n",
      "seconds per epoch 2.2649091596603395\n"
     ]
    }
   ],
   "source": [
    "\n",
    "###############################################################################\n",
    "### simultaneous optimization and clustering\n",
    "def target_distribution(q):\n",
    "    weight = q ** 2 / q.sum(0)\n",
    "    return (weight.T / weight.sum(1)).T\n",
    "\n",
    "start_finetune = time.time()\n",
    "\n",
    "for ite in range(int(maxiter)):\n",
    "    if ite % update_interval == 0:\n",
    "        q, _  = model.predict(x_train, verbose=0)\n",
    "        p = target_distribution(q)  # update the auxiliary target distribution p       \n",
    "        y_pred = q.argmax(1) # evaluate the clustering performance\n",
    "\n",
    "        if y_train is not None:\n",
    "            acc = np.round(metrics.acc(y_train, y_pred), 5)\n",
    "            loss = np.round(loss, 5)\n",
    "            print('Iter %d(Epoch %d): acc = %.5f' % (ite, ite // update_interval, acc), ' ; loss=', loss, '; time = ', time.time() - start_finetune)\n",
    "            cluster_acc(y_train, y_pred)\n",
    "            \n",
    "\n",
    "        # check stop criterion\n",
    "        delta_label = np.sum(y_pred != y_pred_last).astype(np.float32) / y_pred.shape[0]\n",
    "        y_pred_last = np.copy(y_pred)\n",
    "\n",
    "#         if ite > 0 and delta_label < tol:\n",
    "#             print('delta_label ', delta_label, '< tol ', tol)\n",
    "#             break\n",
    "        \n",
    "        IN = encoder.predict(x_train)        \n",
    "    \n",
    "    idx = index_array[index * batch_size: min((index+1) * batch_size, x_train.shape[0])]\n",
    "    loss = model.train_on_batch(x=x_train[idx], y=[p[idx], x_train[idx]])\n",
    "    index = index + 1 if (index + 1) * batch_size <= x_train.shape[0] else 0  \n",
    "\n",
    "end_finetune = time.time()\n",
    "\n",
    "print('pretraining time=', end - start, 'fine tune time =', end_finetune - start_finetune, 'iterations:', maxiter)\n",
    "\n",
    "print('fine tune speed: seconds per epoch', (end_finetune - start_finetune) / maxiter * update_interval)"
   ]
  },
  {
   "cell_type": "code",
   "execution_count": null,
   "metadata": {},
   "outputs": [],
   "source": []
  },
  {
   "cell_type": "code",
   "execution_count": null,
   "metadata": {
    "ExecuteTime": {
     "start_time": "2022-07-15T23:44:57.547Z"
    },
    "pycharm": {
     "name": "#%%\n"
    }
   },
   "outputs": [
    {
     "name": "stdout",
     "output_type": "stream",
     "text": [
      "Get features, then TSNE\n"
     ]
    }
   ],
   "source": [
    "enc = encoder.predict(x_train[:3000])   # the data is large, TSNE is slow, so use a small subset\n",
    "print('Get features, then TSNE')\n",
    "from sklearn.manifold import TSNE\n",
    "redu = TSNE(random_state=123).fit_transform(enc)\n"
   ]
  },
  {
   "cell_type": "code",
   "execution_count": null,
   "metadata": {
    "ExecuteTime": {
     "start_time": "2022-07-15T23:44:58.331Z"
    }
   },
   "outputs": [],
   "source": [
    "def plotter(S, y, target_names):\n",
    "    '''\n",
    "    function to visualize the outputs of t-SNE\n",
    "    '''\n",
    "    # choose a color palette with seaborn.\n",
    "    colors = ['navy', 'turquoise', 'darkorange']\n",
    "    lw = 2\n",
    "    # create a scatter plot.\n",
    "    f = plt.figure(figsize=(22, 10))\n",
    "    ax = f.add_subplot(111)\n",
    "    for color, i, target_name in zip(colors, [0, 1, 2], target_names):\n",
    "        plt.scatter(S[y == i, 0], S[y == i, 1], color=color, alpha=.5, lw=lw, s=100, label=target_name)\n",
    "    plt.legend(loc='lower left', shadow=False, scatterpoints=1, prop={'size': 20})\n",
    "    ax.axis('off')\n",
    "    ax.axis('tight') \n",
    "    plt.show()\n",
    "\n",
    "    return f, ax\n",
    "\n",
    "\n",
    "target_names = ['a', 'b', 'c']\n",
    "plotter(redu, y_train[:3000], target_names) "
   ]
  },
  {
   "cell_type": "code",
   "execution_count": null,
   "metadata": {
    "pycharm": {
     "name": "#%%\n"
    }
   },
   "outputs": [],
   "source": []
  }
 ],
 "metadata": {
  "kernelspec": {
   "display_name": "Python 3",
   "language": "python",
   "name": "python3"
  },
  "language_info": {
   "codemirror_mode": {
    "name": "ipython",
    "version": 3
   },
   "file_extension": ".py",
   "mimetype": "text/x-python",
   "name": "python",
   "nbconvert_exporter": "python",
   "pygments_lexer": "ipython3",
   "version": "3.6.13"
  },
  "toc": {
   "base_numbering": 1,
   "nav_menu": {},
   "number_sections": true,
   "sideBar": true,
   "skip_h1_title": false,
   "title_cell": "Table of Contents",
   "title_sidebar": "Contents",
   "toc_cell": false,
   "toc_position": {},
   "toc_section_display": true,
   "toc_window_display": false
  }
 },
 "nbformat": 4,
 "nbformat_minor": 2
}